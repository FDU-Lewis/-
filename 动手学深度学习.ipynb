{
  "nbformat": 4,
  "nbformat_minor": 0,
  "metadata": {
    "colab": {
      "name": "动手学深度学习.ipynb",
      "provenance": [],
      "authorship_tag": "ABX9TyN345GWwzIL+LJy1bP+AIqI",
      "include_colab_link": true
    },
    "kernelspec": {
      "name": "python3",
      "display_name": "Python 3"
    }
  },
  "cells": [
    {
      "cell_type": "markdown",
      "metadata": {
        "id": "view-in-github",
        "colab_type": "text"
      },
      "source": [
        "<a href=\"https://colab.research.google.com/github/FDU-Lewis/-/blob/master/%E5%8A%A8%E6%89%8B%E5%AD%A6%E6%B7%B1%E5%BA%A6%E5%AD%A6%E4%B9%A0.ipynb\" target=\"_parent\"><img src=\"https://colab.research.google.com/assets/colab-badge.svg\" alt=\"Open In Colab\"/></a>"
      ]
    },
    {
      "cell_type": "markdown",
      "metadata": {
        "id": "r-m8bdp_krhM",
        "colab_type": "text"
      },
      "source": [
        ""
      ]
    },
    {
      "cell_type": "markdown",
      "metadata": {
        "id": "_cnv5EaoktLL",
        "colab_type": "text"
      },
      "source": [
        "torchvision包，主要用来构建计算机视觉模型，主要包含以下几个部分：\n",
        "1:torchvision.datasets:一些加载数据的函数和常用的数据集接口；\n",
        "2:torchvision.models:包含常用的模型结构（含预训练模型），例如AlexNet，VGG，ResNet等；\n",
        "3：torchvision.transforms:常用的图片变换，例如剪裁，旋转等；\n",
        "4:torchvision.utils:其他一些有用的方法。"
      ]
    },
    {
      "cell_type": "code",
      "metadata": {
        "id": "Dj_3j-Pql3du",
        "colab_type": "code",
        "colab": {}
      },
      "source": [
        "#获取数据集\n",
        "import torch\n",
        "import torchvision\n"
      ],
      "execution_count": 0,
      "outputs": []
    }
  ]
}